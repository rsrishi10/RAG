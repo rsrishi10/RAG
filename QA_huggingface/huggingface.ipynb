{
 "cells": [
  {
   "cell_type": "code",
   "execution_count": 1,
   "metadata": {},
   "outputs": [],
   "source": [
    "from langchain_community.document_loaders import PyPDFLoader\n",
    "from langchain_community.document_loaders import PyPDFDirectoryLoader\n",
    "from langchain.text_splitter import RecursiveCharacterTextSplitter\n",
    "from langchain_community.vectorstores import FAISS\n",
    "\n",
    "from langchain_community.embeddings import HuggingFaceBgeEmbeddings\n",
    "from langchain.prompts import PromptTemplate\n",
    "\n",
    "from langchain.chains import RetrievalQA"
   ]
  },
  {
   "cell_type": "code",
   "execution_count": 2,
   "metadata": {},
   "outputs": [
    {
     "data": {
      "text/plain": [
       "Document(metadata={'source': 'us_census/acsbr-015.pdf', 'page': 0}, page_content='Health Insurance Coverage Status and Type \\nby Geography: 2021 and 2022\\nAmerican Community Survey Briefs\\nACSBR-015\\nIssued September 2023\\nDouglas Conway and Breauna Branch\\nINTRODUCTION\\nDemographic shifts as well as economic and govern-\\nment policy changes can affect people’s access to \\nhealth coverage. For example, between 2021 and 2022, \\nthe labor market continued to improve, which may \\nhave affected private coverage in the United States \\nduring that time.1 Public policy changes included \\nthe renewal of the Public Health Emergency, which \\nallowed Medicaid enrollees to remain covered under \\nthe Continuous Enrollment Provision.2 The American \\nRescue Plan (ARP) enhanced Marketplace premium \\nsubsidies for those with incomes above 400 percent \\nof the poverty level as well as for unemployed people.3\\nIn addition to national policies, individual states and \\nthe District of Columbia can affect health insurance \\ncoverage by making Marketplace or Medicaid more')"
      ]
     },
     "execution_count": 2,
     "metadata": {},
     "output_type": "execute_result"
    }
   ],
   "source": [
    "## Read teh pdfs from the folder\n",
    "loader = PyPDFDirectoryLoader(\"./us_census/\")\n",
    "\n",
    "documents = loader.load()\n",
    "text_splitter= RecursiveCharacterTextSplitter(chunk_size= 1000, chunk_overlap=200)\n",
    "\n",
    "final_documents=text_splitter.split_documents(documents)\n",
    "final_documents[0]"
   ]
  },
  {
   "cell_type": "code",
   "execution_count": 3,
   "metadata": {},
   "outputs": [
    {
     "data": {
      "text/plain": [
       "316"
      ]
     },
     "execution_count": 3,
     "metadata": {},
     "output_type": "execute_result"
    }
   ],
   "source": [
    "len(final_documents)"
   ]
  },
  {
   "cell_type": "code",
   "execution_count": 4,
   "metadata": {},
   "outputs": [
    {
     "name": "stderr",
     "output_type": "stream",
     "text": [
      "/opt/anaconda3/envs/langchain/lib/python3.10/site-packages/tqdm/auto.py:21: TqdmWarning: IProgress not found. Please update jupyter and ipywidgets. See https://ipywidgets.readthedocs.io/en/stable/user_install.html\n",
      "  from .autonotebook import tqdm as notebook_tqdm\n"
     ]
    }
   ],
   "source": [
    "## Embedding Using Huggingface\n",
    "huggingface_embeddings = HuggingFaceBgeEmbeddings(\n",
    "    model_name = \"BAAI/bge-small-en-v1.5\",\n",
    "    model_kwargs={'device':'mps'},\n",
    "    encode_kwargs = {'normalize_embeddings':'True'}\n",
    ")"
   ]
  },
  {
   "cell_type": "code",
   "execution_count": 5,
   "metadata": {},
   "outputs": [
    {
     "data": {
      "text/plain": [
       "array([-0.07903478, -0.01134118, -0.02312095,  0.02844459,  0.05053345,\n",
       "        0.05317833, -0.01907798,  0.03456025, -0.1021137 , -0.02915704,\n",
       "        0.08524267,  0.05650731, -0.02545437, -0.03308494, -0.00635745,\n",
       "        0.04090864, -0.00628109,  0.00356741, -0.03854131,  0.03667689,\n",
       "       -0.04289804,  0.03425252, -0.031169  , -0.03793728,  0.01728389,\n",
       "        0.01214924,  0.00653116,  0.01463565, -0.05529063, -0.15320699,\n",
       "        0.00730851,  0.03202941, -0.04701129, -0.01595969,  0.0187444 ,\n",
       "        0.02642934, -0.02306372,  0.08438037,  0.04182491,  0.05278177,\n",
       "       -0.03057604,  0.01564259, -0.01689073,  0.00529407, -0.02417439,\n",
       "        0.00412995, -0.01889943, -0.00150627, -0.00836937, -0.03390067,\n",
       "        0.03515955, -0.00553136,  0.04910935,  0.05971861,  0.05615967,\n",
       "       -0.05105153,  0.01475138, -0.01849965, -0.03284644,  0.03576624,\n",
       "        0.04947709, -0.00938883, -0.26202121,  0.0975034 ,  0.01715687,\n",
       "        0.04781387, -0.00556323, -0.0029831 , -0.02207349, -0.04463671,\n",
       "       -0.05760486,  0.04815879, -0.05522216,  0.01635337,  0.03299247,\n",
       "        0.02147077,  0.0129622 ,  0.01462308,  0.02174958, -0.00203001,\n",
       "        0.02099542,  0.03353847, -0.00345104, -0.04823532,  0.05149959,\n",
       "       -0.08948118,  0.0449143 , -0.03423375,  0.02495742, -0.03332329,\n",
       "       -0.04124892,  0.01226971,  0.00551139,  0.02813652,  0.0075081 ,\n",
       "        0.03364136, -0.00718588, -0.00677299, -0.02376005,  0.34350541,\n",
       "       -0.02040544,  0.00967848, -0.00936507,  0.01524741, -0.00692597,\n",
       "       -0.05803745, -0.00443033,  0.01115701,  0.01746208,  0.01258483,\n",
       "        0.02158611, -0.02646189,  0.0102677 ,  0.04782212, -0.03718102,\n",
       "       -0.019862  ,  0.04008085,  0.01574842,  0.09363514, -0.02635871,\n",
       "       -0.01393857,  0.03410937, -0.01630287, -0.0470879 ,  0.02137171,\n",
       "        0.06708883,  0.05438906,  0.15054184,  0.03444389, -0.04218609,\n",
       "        0.10422418, -0.04002278, -0.00191299,  0.0045912 , -0.00292594,\n",
       "        0.00371359, -0.02687678,  0.03972121, -0.00739633,  0.05129856,\n",
       "        0.0069869 , -0.00043555, -0.00752801, -0.13413775, -0.0314099 ,\n",
       "        0.1796466 , -0.02152572,  0.04534231,  0.0202722 , -0.0182641 ,\n",
       "       -0.04439814,  0.04787031, -0.03801557,  0.04057759, -0.03817708,\n",
       "        0.01659368, -0.00368177,  0.02469142, -0.02634715, -0.06727426,\n",
       "        0.0570541 , -0.03698839, -0.05754101,  0.01774049,  0.04163096,\n",
       "       -0.0269981 , -0.01342318, -0.06434499,  0.02320637,  0.004761  ,\n",
       "        0.01345853,  0.0514266 ,  0.01828845, -0.02267213,  0.08680939,\n",
       "        0.02288987, -0.0227856 , -0.00261814, -0.00936064, -0.05964359,\n",
       "        0.00370076, -0.02772135, -0.05116596, -0.04951674, -0.01691759,\n",
       "       -0.04342575, -0.06551473,  0.0578272 ,  0.04989293, -0.01559616,\n",
       "       -0.00385896,  0.00827752, -0.0637707 ,  0.01969861, -0.01933413,\n",
       "       -0.01095788, -0.05990799, -0.02187357,  0.03869361, -0.02963532,\n",
       "       -0.03095981,  0.02629448,  0.00857693, -0.00225387, -0.0091733 ,\n",
       "        0.02006876,  0.02308838, -0.06949826,  0.03825638, -0.01321389,\n",
       "        0.00288254,  0.04065889,  0.03197161,  0.00364803,  0.03610989,\n",
       "        0.01653045,  0.01282876, -0.02190452,  0.0205089 ,  0.03220999,\n",
       "        0.03351383,  0.06819053,  0.09490162, -0.27463806, -0.00499021,\n",
       "        0.00181548,  0.00687719, -0.0694719 , -0.05266644, -0.045476  ,\n",
       "        0.02707843,  0.0040348 ,  0.08909719,  0.06208607, -0.00817403,\n",
       "       -0.02176256,  0.10530706,  0.02105067, -0.08313881,  0.02648296,\n",
       "       -0.02122215, -0.01542382, -0.00282386,  0.00493175,  0.0048772 ,\n",
       "       -0.06012282, -0.02174245,  0.08150731, -0.01746737,  0.06210533,\n",
       "       -0.052419  , -0.07425199,  0.00045824, -0.05536214,  0.05762164,\n",
       "       -0.00776096, -0.11965969,  0.06155296,  0.01773325, -0.07490147,\n",
       "        0.00434336, -0.06374461, -0.03096172, -0.02682648,  0.0515874 ,\n",
       "       -0.06356609,  0.02999003, -0.01865462, -0.05194331,  0.0463651 ,\n",
       "        0.07127587, -0.08020443,  0.01025257,  0.00649385, -0.03402682,\n",
       "       -0.03371226, -0.01476094,  0.02565086, -0.06251817, -0.03164582,\n",
       "        0.03269228, -0.0190662 , -0.00269565,  0.02393799,  0.00502712,\n",
       "        0.04807224, -0.00441303, -0.00810787, -0.04506409,  0.01010005,\n",
       "       -0.0308529 , -0.07091316,  0.0099859 ,  0.00276088,  0.0471048 ,\n",
       "       -0.02302798, -0.02459345,  0.01797337, -0.02112831,  0.04660877,\n",
       "       -0.00104202, -0.00374575, -0.04950183,  0.04251793, -0.05733857,\n",
       "        0.02055241,  0.04219675, -0.01167061,  0.01241847,  0.01056792,\n",
       "        0.00663805, -0.01598006,  0.01632798, -0.02056751, -0.01553836,\n",
       "       -0.01156685, -0.01864409,  0.00332143,  0.00658678, -0.21910881,\n",
       "        0.04714746,  0.02075725, -0.02441516, -0.00868854, -0.01634121,\n",
       "       -0.02499125,  0.00766702, -0.01083087, -0.02472529,  0.05254848,\n",
       "        0.08288416,  0.11848126, -0.0193633 , -0.00433766,  0.00458104,\n",
       "        0.06947732,  0.00124526,  0.02368702, -0.03457183,  0.06163955,\n",
       "       -0.0604536 ,  0.14640093, -0.03099672,  0.01726848, -0.06827354,\n",
       "       -0.01641342,  0.03765269, -0.03385302,  0.0172165 ,  0.02592439,\n",
       "       -0.0003479 ,  0.02241217, -0.01919533,  0.05005875,  0.00834139,\n",
       "        0.0097735 ,  0.05592788,  0.00274988,  0.02592712, -0.04995012,\n",
       "       -0.02017879,  0.02317918,  0.01068104,  0.06462803, -0.02950339,\n",
       "       -0.04529896, -0.06358043, -0.01058147,  0.06793746,  0.00993989,\n",
       "       -0.02914158,  0.00441981,  0.01224196, -0.05699342, -0.01181842,\n",
       "       -0.06126489,  0.03326267,  0.00284467, -0.0124883 ,  0.02214621,\n",
       "        0.04263506, -0.07597524,  0.01234052,  0.06002008])"
      ]
     },
     "execution_count": 5,
     "metadata": {},
     "output_type": "execute_result"
    }
   ],
   "source": [
    "import numpy as np\n",
    "np.array(huggingface_embeddings.embed_query(final_documents[0].page_content))"
   ]
  },
  {
   "cell_type": "code",
   "execution_count": 6,
   "metadata": {},
   "outputs": [],
   "source": [
    "## VectorStore Creation\n",
    "vectorstore=FAISS.from_documents(final_documents[:120],huggingface_embeddings)"
   ]
  },
  {
   "cell_type": "code",
   "execution_count": 7,
   "metadata": {},
   "outputs": [
    {
     "name": "stdout",
     "output_type": "stream",
     "text": [
      "2 U.S. Census Bureau\n",
      "WHAT IS HEALTH INSURANCE COVERAGE?\n",
      "This brief presents state-level estimates of health insurance coverage \n",
      "using data from the American Community Survey (ACS). The  \n",
      "U.S. Census Bureau conducts the ACS throughout the year; the \n",
      "survey asks respondents to report their coverage at the time of \n",
      "interview. The resulting measure of health insurance coverage, \n",
      "therefore, reflects an annual average of current comprehensive \n",
      "health insurance coverage status.* This uninsured rate measures a \n",
      "different concept than the measure based on the Current Population \n",
      "Survey Annual Social and Economic Supplement (CPS ASEC). \n",
      "For reporting purposes, the ACS broadly classifies health insurance \n",
      "coverage as private insurance or public insurance. The ACS defines \n",
      "private health insurance as a plan provided through an employer \n",
      "or a union, coverage purchased directly by an individual from an \n",
      "insurance company or through an exchange (such as healthcare.\n"
     ]
    }
   ],
   "source": [
    "## Query using Similarity Search\n",
    "query=\"WHAT IS HEALTH INSURANCE COVERAGE?\"\n",
    "relevant_docments=vectorstore.similarity_search(query)\n",
    "\n",
    "print(relevant_docments[0].page_content)"
   ]
  },
  {
   "cell_type": "code",
   "execution_count": 8,
   "metadata": {},
   "outputs": [
    {
     "name": "stdout",
     "output_type": "stream",
     "text": [
      "tags=['FAISS', 'HuggingFaceBgeEmbeddings'] vectorstore=<langchain_community.vectorstores.faiss.FAISS object at 0x317ef97b0> search_kwargs={'k': 3}\n"
     ]
    }
   ],
   "source": [
    "retriever=vectorstore.as_retriever(search_type=\"similarity\",search_kwargs={\"k\":3})\n",
    "print(retriever)"
   ]
  },
  {
   "cell_type": "code",
   "execution_count": 9,
   "metadata": {},
   "outputs": [],
   "source": [
    "import os\n",
    "os.environ['HUGGINGFACEHUB_API_TOKEN']=\"\""
   ]
  },
  {
   "cell_type": "code",
   "execution_count": 10,
   "metadata": {},
   "outputs": [
    {
     "name": "stderr",
     "output_type": "stream",
     "text": [
      "/var/folders/_c/_wx3_r550ylgdgq0h4q8sllw0000gn/T/ipykernel_2599/386166796.py:3: LangChainDeprecationWarning: The class `HuggingFaceHub` was deprecated in LangChain 0.0.21 and will be removed in 1.0. An updated version of the class exists in the :class:`~langchain-huggingface package and should be used instead. To use it run `pip install -U :class:`~langchain-huggingface` and import as `from :class:`~langchain_huggingface import HuggingFaceEndpoint``.\n",
      "  hf=HuggingFaceHub(\n"
     ]
    },
    {
     "data": {
      "text/plain": [
       "'What is the health insurance coverage?\\n\\nThe health insurance coverage is a health insurance policy that is provided by the employer to the employee. The employer pays the premiums for the health insurance coverage. The employee is responsible for paying the deductible and co-payments.\\n\\nWhat is the health insurance coverage?\\n\\nThe health insurance coverage is a health insurance policy that is provided by the employer to the employee. The employer pays the premiums for the health insurance coverage. The employee is responsible for paying the deduct'"
      ]
     },
     "execution_count": 10,
     "metadata": {},
     "output_type": "execute_result"
    }
   ],
   "source": [
    "from langchain_community.llms import HuggingFaceHub\n",
    "\n",
    "hf=HuggingFaceHub(\n",
    "    repo_id=\"mistralai/Mistral-7B-v0.1\",\n",
    "    model_kwargs={\"temperature\":0.1,\"max_length\":500}\n",
    "\n",
    ")\n",
    "query=\"What is the health insurance coverage?\"\n",
    "hf.invoke(query)"
   ]
  },
  {
   "cell_type": "code",
   "execution_count": null,
   "metadata": {},
   "outputs": [],
   "source": [
    "#Hugging Face models can be run locally through the HuggingFacePipeline class.\n",
    "from langchain_community.llms.huggingface_pipeline import HuggingFacePipeline\n",
    "\n",
    "hf = HuggingFacePipeline.from_model_id(\n",
    "    model_id=\"mistralai/Mistral-7B-v0.1\",\n",
    "    task=\"text-generation\",\n",
    "    pipeline_kwargs={\"temperature\": 0, \"max_new_tokens\": 300}\n",
    ")\n",
    "\n",
    "llm = hf \n",
    "llm.invoke(query)"
   ]
  },
  {
   "cell_type": "code",
   "execution_count": 12,
   "metadata": {},
   "outputs": [],
   "source": [
    "prompt_template=\"\"\"\n",
    "Use the following piece of context to answer the question asked.\n",
    "Please try to provide the answer only based on the context\n",
    "\n",
    "{context}\n",
    "Question:{question}\n",
    "\n",
    "Helpful Answers:\n",
    " \"\"\""
   ]
  },
  {
   "cell_type": "code",
   "execution_count": 13,
   "metadata": {},
   "outputs": [],
   "source": [
    "prompt=PromptTemplate(template=prompt_template,input_variables=[\"context\",\"question\"])"
   ]
  },
  {
   "cell_type": "code",
   "execution_count": 14,
   "metadata": {},
   "outputs": [],
   "source": [
    "retrievalQA=RetrievalQA.from_chain_type(\n",
    "    llm=hf,\n",
    "    chain_type=\"stuff\",\n",
    "    retriever=retriever,\n",
    "    return_source_documents=True,\n",
    "    chain_type_kwargs={\"prompt\":prompt}\n",
    ")"
   ]
  },
  {
   "cell_type": "code",
   "execution_count": 15,
   "metadata": {},
   "outputs": [],
   "source": [
    "query=\"\"\"DIFFERENCES IN THE\n",
    "UNINSURED RATE BY STATE\n",
    "IN 2022\"\"\""
   ]
  },
  {
   "cell_type": "code",
   "execution_count": 16,
   "metadata": {},
   "outputs": [
    {
     "name": "stderr",
     "output_type": "stream",
     "text": [
      "/opt/anaconda3/envs/langchain/lib/python3.10/site-packages/transformers/generation/configuration_utils.py:628: UserWarning: `do_sample` is set to `False`. However, `temperature` is set to `0` -- this flag is only used in sample-based generation modes. You should set `do_sample=True` or unset `temperature`.\n",
      "  warnings.warn(\n"
     ]
    }
   ],
   "source": [
    "# Call the QA chain with our query.\n",
    "result = retrievalQA.invoke({\"query\": query})\n",
    "print(result['result'])"
   ]
  },
  {
   "cell_type": "code",
   "execution_count": null,
   "metadata": {},
   "outputs": [],
   "source": []
  }
 ],
 "metadata": {
  "kernelspec": {
   "display_name": "langchain",
   "language": "python",
   "name": "python3"
  },
  "language_info": {
   "codemirror_mode": {
    "name": "ipython",
    "version": 3
   },
   "file_extension": ".py",
   "mimetype": "text/x-python",
   "name": "python",
   "nbconvert_exporter": "python",
   "pygments_lexer": "ipython3",
   "version": "3.10.16"
  }
 },
 "nbformat": 4,
 "nbformat_minor": 2
}
